{
 "cells": [
  {
   "cell_type": "code",
   "execution_count": 1,
   "metadata": {},
   "outputs": [],
   "source": [
    "# importing important libaries\n",
    "\n",
    "import imaplib"
   ]
  },
  {
   "cell_type": "code",
   "execution_count": 5,
   "metadata": {},
   "outputs": [],
   "source": [
    "# Collecting and declaring important variables to be used\n",
    "# it is advisable to use app passwords while using the app\n",
    "\n",
    "email = \"onahionah@gmail.com\" #print(input(\"Enter your Email: \")) #this part of the code is to give way for more use\n",
    "#gen_pass =  #print(input(\"Enter your Password\"))"
   ]
  },
  {
   "cell_type": "code",
   "execution_count": 6,
   "metadata": {},
   "outputs": [
    {
     "data": {
      "text/plain": [
       "('OK', [b'32688'])"
      ]
     },
     "execution_count": 6,
     "metadata": {},
     "output_type": "execute_result"
    }
   ],
   "source": [
    "# connecting to the gmail server\n",
    "\n",
    "imap_hand = imaplib.IMAP4_SSL(\"imap.gmail.com\")\n",
    "\n",
    "#logging to the gmail\n",
    "\n",
    "imap_hand.login(email, gen_pass)\n",
    "\n",
    "# choosing what part of the mailbox to clean\n",
    "\n",
    "trash_bin = input('Specify mail label to delete. This could be \\n INBOX \\n Spam \\n Trash')\n",
    "\n",
    "imap_hand.select(trash_bin)\n",
    "\n",
    "\n",
    "\n"
   ]
  },
  {
   "cell_type": "code",
   "execution_count": 7,
   "metadata": {},
   "outputs": [],
   "source": [
    "# searching for the kind of mails to delete\n",
    "def del_decryptmedia ():\n",
    "  #del_email = input(\"Enter desired email address to delete all the mails: \")\n",
    "  status, messages_id_list = imap_hand.search(None, '(FROM \"deewilliams@staffingpreneursacademy.com\")')\n",
    "  messages_id = messages_id_list[0].split(b\" \")\n",
    "\n",
    "  print(\"Seleting Emails from deewilliams@staffingpreneursacademy.com \")\n",
    "  count = 0\n",
    "\n",
    "  for mail in messages_id:\n",
    "    imap_hand.store(mail, \"+FLAGS\", \"\\\\Deleted\")  #selets all messages and flag them for delete\n",
    "    count +=1\n",
    "\n",
    "  print (\"Deleting Emails from deewilliams@staffingpreneursacademy.com\")\n",
    "\n",
    "  imap_hand.expunge () #deletes all messages permanently\n",
    "\n",
    "  print (\"Closing \", trash_bin)\n",
    "  imap_hand.close ()   # closes the Inbox mailbox\n",
    "\n",
    "  print (\"Logging out\")\n",
    "  imap_hand.logout()    #logs out of the account\n",
    "\n",
    "  print(\"Deleting Successful \\n A total of \", count, \"Deleted\")"
   ]
  },
  {
   "cell_type": "code",
   "execution_count": 8,
   "metadata": {},
   "outputs": [
    {
     "name": "stdout",
     "output_type": "stream",
     "text": [
      "Seleting Emails from deewilliams@staffingpreneursacademy.com \n",
      "Deleting Emails from deewilliams@staffingpreneursacademy.com\n",
      "Closing  INBOX\n",
      "Logging out\n",
      "Deleting Successful \n",
      " A total of  221 Deleted\n"
     ]
    }
   ],
   "source": [
    "del_decryptmedia ()"
   ]
  },
  {
   "cell_type": "code",
   "execution_count": 9,
   "metadata": {},
   "outputs": [],
   "source": [
    "def using_subject ():\n",
    "  email_sub = print(input(\"Enter Subject line to delete all the mails: \"))\n",
    "  status, messages_id_list = imap_hand.search(None, SUBJECT, email_sub)\n",
    "\n",
    "def using_body ():\n",
    "  email_body = print(input(\"Enter Body of email pattern to delete all the emails\"))\n",
    "  status, messages_id_list = imap_hand.search(None, BODY, email_body)\n",
    "\n"
   ]
  },
  {
   "cell_type": "code",
   "execution_count": null,
   "metadata": {},
   "outputs": [],
   "source": []
  }
 ],
 "metadata": {
  "kernelspec": {
   "display_name": "Python 3",
   "language": "python",
   "name": "python3"
  },
  "language_info": {
   "codemirror_mode": {
    "name": "ipython",
    "version": 3
   },
   "file_extension": ".py",
   "mimetype": "text/x-python",
   "name": "python",
   "nbconvert_exporter": "python",
   "pygments_lexer": "ipython3",
   "version": "3.12.1"
  }
 },
 "nbformat": 4,
 "nbformat_minor": 2
}
